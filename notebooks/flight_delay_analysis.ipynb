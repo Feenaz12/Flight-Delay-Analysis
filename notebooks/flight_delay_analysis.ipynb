{
  "nbformat": 4,
  "nbformat_minor": 0,
  "metadata": {
    "colab": {
      "provenance": []
    },
    "kernelspec": {
      "name": "python3",
      "display_name": "Python 3"
    },
    "language_info": {
      "name": "python"
    }
  },
  "cells": [
    {
      "cell_type": "code",
      "source": [
        "from google.colab import drive\n",
        "drive.mount('/content/drive')\n"
      ],
      "metadata": {
        "colab": {
          "base_uri": "https://localhost:8080/"
        },
        "id": "ozu-g23UT8uv",
        "outputId": "817cda8e-a95b-403b-910b-c1d1fb94fc8d"
      },
      "execution_count": null,
      "outputs": [
        {
          "output_type": "stream",
          "name": "stdout",
          "text": [
            "Drive already mounted at /content/drive; to attempt to forcibly remount, call drive.mount(\"/content/drive\", force_remount=True).\n"
          ]
        }
      ]
    },
    {
      "cell_type": "markdown",
      "source": [
        "# Importing Libraries"
      ],
      "metadata": {
        "id": "HlBFUM9biY2J"
      }
    },
    {
      "cell_type": "code",
      "execution_count": null,
      "metadata": {
        "id": "H7BOuEhSSVxe"
      },
      "outputs": [],
      "source": [
        "# 1. Import Libraries\n",
        "import pandas as pd\n",
        "import numpy as np\n",
        "import matplotlib.pyplot as plt\n",
        "import seaborn as sns\n",
        "\n",
        "from sklearn.model_selection import train_test_split\n",
        "from sklearn.preprocessing import StandardScaler\n",
        "from sklearn.linear_model import LogisticRegression\n",
        "from sklearn.ensemble import RandomForestClassifier\n",
        "from xgboost import XGBClassifier\n",
        "from sklearn.metrics import accuracy_score, recall_score, f1_score, roc_auc_score, confusion_matrix, classification_report\n",
        "from sklearn.impute import SimpleImputer\n",
        "\n",
        "\n",
        "\n"
      ]
    },
    {
      "cell_type": "markdown",
      "source": [
        "# Load Datasets"
      ],
      "metadata": {
        "id": "EHPv9yooigqd"
      }
    },
    {
      "cell_type": "code",
      "source": [
        "# 2. Load Datasets\n",
        "flights = pd.read_csv(\"/content/drive/MyDrive/Masai /MASAI-PROJECTS/flights.csv\")\n",
        "airlines = pd.read_csv(\"/content/drive/MyDrive/Masai /MASAI-PROJECTS/airlines.csv\")\n",
        "airports = pd.read_csv(\"/content/drive/MyDrive/Masai /MASAI-PROJECTS/airports.csv\")\n",
        "\n",
        "print(\"Flights shape:\", flights.shape)\n",
        "print(\"Airlines shape:\", airlines.shape)\n",
        "print(\"Airports shape:\", airports.shape)\n",
        "\n",
        "# Inspect\n",
        "print(flights.head())\n",
        "print(airlines.head())\n",
        "print(airports.head())"
      ],
      "metadata": {
        "colab": {
          "base_uri": "https://localhost:8080/"
        },
        "id": "OSbJvF-3Um7h",
        "outputId": "bfbbb4ff-e462-4fc4-eea8-d5698ac93c19"
      },
      "execution_count": null,
      "outputs": [
        {
          "output_type": "stream",
          "name": "stderr",
          "text": [
            "/tmp/ipython-input-3837961367.py:2: DtypeWarning: Columns (7,8) have mixed types. Specify dtype option on import or set low_memory=False.\n",
            "  flights = pd.read_csv(\"/content/drive/MyDrive/Masai /MASAI-PROJECTS/flights.csv\")\n"
          ]
        },
        {
          "output_type": "stream",
          "name": "stdout",
          "text": [
            "Flights shape: (5819079, 31)\n",
            "Airlines shape: (14, 2)\n",
            "Airports shape: (322, 7)\n",
            "   YEAR  MONTH  DAY  DAY_OF_WEEK AIRLINE  FLIGHT_NUMBER TAIL_NUMBER  \\\n",
            "0  2015      1    1            4      AS             98      N407AS   \n",
            "1  2015      1    1            4      AA           2336      N3KUAA   \n",
            "2  2015      1    1            4      US            840      N171US   \n",
            "3  2015      1    1            4      AA            258      N3HYAA   \n",
            "4  2015      1    1            4      AS            135      N527AS   \n",
            "\n",
            "  ORIGIN_AIRPORT DESTINATION_AIRPORT  SCHEDULED_DEPARTURE  ...  ARRIVAL_TIME  \\\n",
            "0            ANC                 SEA                    5  ...         408.0   \n",
            "1            LAX                 PBI                   10  ...         741.0   \n",
            "2            SFO                 CLT                   20  ...         811.0   \n",
            "3            LAX                 MIA                   20  ...         756.0   \n",
            "4            SEA                 ANC                   25  ...         259.0   \n",
            "\n",
            "   ARRIVAL_DELAY  DIVERTED  CANCELLED  CANCELLATION_REASON  AIR_SYSTEM_DELAY  \\\n",
            "0          -22.0         0          0                  NaN               NaN   \n",
            "1           -9.0         0          0                  NaN               NaN   \n",
            "2            5.0         0          0                  NaN               NaN   \n",
            "3           -9.0         0          0                  NaN               NaN   \n",
            "4          -21.0         0          0                  NaN               NaN   \n",
            "\n",
            "   SECURITY_DELAY  AIRLINE_DELAY  LATE_AIRCRAFT_DELAY  WEATHER_DELAY  \n",
            "0             NaN            NaN                  NaN            NaN  \n",
            "1             NaN            NaN                  NaN            NaN  \n",
            "2             NaN            NaN                  NaN            NaN  \n",
            "3             NaN            NaN                  NaN            NaN  \n",
            "4             NaN            NaN                  NaN            NaN  \n",
            "\n",
            "[5 rows x 31 columns]\n",
            "  IATA_CODE                 AIRLINE\n",
            "0        UA   United Air Lines Inc.\n",
            "1        AA  American Airlines Inc.\n",
            "2        US         US Airways Inc.\n",
            "3        F9  Frontier Airlines Inc.\n",
            "4        B6         JetBlue Airways\n",
            "  IATA_CODE                              AIRPORT         CITY STATE COUNTRY  \\\n",
            "0       ABE  Lehigh Valley International Airport    Allentown    PA     USA   \n",
            "1       ABI             Abilene Regional Airport      Abilene    TX     USA   \n",
            "2       ABQ    Albuquerque International Sunport  Albuquerque    NM     USA   \n",
            "3       ABR            Aberdeen Regional Airport     Aberdeen    SD     USA   \n",
            "4       ABY   Southwest Georgia Regional Airport       Albany    GA     USA   \n",
            "\n",
            "   LATITUDE  LONGITUDE  \n",
            "0  40.65236  -75.44040  \n",
            "1  32.41132  -99.68190  \n",
            "2  35.04022 -106.60919  \n",
            "3  45.44906  -98.42183  \n",
            "4  31.53552  -84.19447  \n"
          ]
        }
      ]
    },
    {
      "cell_type": "markdown",
      "source": [
        "# Preprocessing"
      ],
      "metadata": {
        "id": "ROpXX3fwil8j"
      }
    },
    {
      "cell_type": "code",
      "source": [
        "# 3. Merge Airline Names\n",
        "# Rename columns after first merge\n",
        "flights.rename(columns={\n",
        "    \"AIRLINE_x\": \"AIRLINE_CODE\",   # airline code from flights.csv\n",
        "    \"AIRLINE_y\": \"Airline_Name\"    # full airline name from airlines.csv\n",
        "}, inplace=True)\n",
        "\n",
        "# Drop duplicate merge key\n",
        "flights.drop(columns=[\"IATA_CODE\"], inplace=True, errors=\"ignore\")\n",
        "\n",
        "# Merge Airport Info\n",
        "flights = flights.merge(\n",
        "    airports, left_on=\"ORIGIN_AIRPORT\", right_on=\"IATA_CODE\", how=\"left\", suffixes=(\"\", \"_ORIGIN\")\n",
        ")\n",
        "flights = flights.merge(\n",
        "    airports, left_on=\"DESTINATION_AIRPORT\", right_on=\"IATA_CODE\", how=\"left\", suffixes=(\"\", \"_DEST\")\n",
        ")\n"
      ],
      "metadata": {
        "id": "8a6Gxh-bY8zn"
      },
      "execution_count": null,
      "outputs": []
    },
    {
      "cell_type": "code",
      "source": [
        "# 4. Target Variable: Delayed (arrival delay > 15 min)\n",
        "flights['Delayed'] = (flights['ARRIVAL_DELAY'] > 15).astype(int)\n",
        "\n"
      ],
      "metadata": {
        "id": "U0dLVsj8XC67"
      },
      "execution_count": null,
      "outputs": []
    },
    {
      "cell_type": "code",
      "source": [
        "# 5. Data Cleaning\n",
        "# Drop irrelevant or high-cardinality text columns\n",
        "flights.drop([\n",
        "    'TAIL_NUMBER','FLIGHT_NUMBER','CANCELLATION_REASON',\n",
        "    'DIVERTED','CANCELLED','IATA_CODE','IATA_CODE_DEST','Airline_Name',\n",
        "    'CITY','STATE','COUNTRY','AIRPORT'\n",
        "], axis=1, inplace=True, errors='ignore')\n",
        "\n",
        "# Drop rows missing essential numeric columns\n",
        "flights.dropna(subset=['ARRIVAL_DELAY','DISTANCE','DEPARTURE_TIME'], inplace=True)\n"
      ],
      "metadata": {
        "id": "IIR0ET2nXPBP"
      },
      "execution_count": null,
      "outputs": []
    },
    {
      "cell_type": "markdown",
      "source": [
        "# Feature Engineering"
      ],
      "metadata": {
        "id": "smRzp0d7i1cE"
      }
    },
    {
      "cell_type": "code",
      "source": [
        "# 6. Feature Engineering\n",
        "flights['FL_DATE'] = pd.to_datetime(dict(year=flights.YEAR, month=flights.MONTH, day=flights.DAY))\n",
        "flights['DayOfWeek'] = flights['DAY_OF_WEEK']\n",
        "flights['Hour'] = (flights['SCHEDULED_DEPARTURE'] // 100).astype(int)\n",
        "\n",
        "# Reduce high-cardinality airports → top 20, rest as OTHER\n",
        "top_origins = flights['ORIGIN_AIRPORT'].value_counts().nlargest(20).index\n",
        "top_dests = flights['DESTINATION_AIRPORT'].value_counts().nlargest(20).index\n",
        "\n",
        "flights['ORIGIN_AIRPORT'] = flights['ORIGIN_AIRPORT'].where(flights['ORIGIN_AIRPORT'].isin(top_origins), 'OTHER')\n",
        "flights['DESTINATION_AIRPORT'] = flights['DESTINATION_AIRPORT'].where(flights['DESTINATION_AIRPORT'].isin(top_dests), 'OTHER')\n"
      ],
      "metadata": {
        "id": "Vl8hyoW_X7xn"
      },
      "execution_count": null,
      "outputs": []
    },
    {
      "cell_type": "code",
      "source": [
        "# 7. One-hot encode categorical features\n",
        "categorical = ['AIRLINE','ORIGIN_AIRPORT','DESTINATION_AIRPORT']\n",
        "\n",
        "# Only keep columns that exist (safety check)\n",
        "categorical = [col for col in categorical if col in flights.columns]\n",
        "\n",
        "# Convert categorical columns to numeric using one-hot encoding\n",
        "flights = pd.get_dummies(flights, columns=categorical, drop_first=True)\n"
      ],
      "metadata": {
        "id": "pfiMef_ucoYP"
      },
      "execution_count": null,
      "outputs": []
    },
    {
      "cell_type": "code",
      "source": [
        "# Sample dataset to reduce memory usage\n",
        "flights_sample = flights.sample(n=200000, random_state=42)\n",
        "print(\"Sampled dataset shape:\", flights_sample.shape)\n"
      ],
      "metadata": {
        "colab": {
          "base_uri": "https://localhost:8080/"
        },
        "id": "vaH-QirljDIz",
        "outputId": "d0ab7f2f-04e4-4ac7-d526-1580663c9177"
      },
      "execution_count": null,
      "outputs": [
        {
          "output_type": "stream",
          "name": "stdout",
          "text": [
            "Sampled dataset shape: (200000, 88)\n"
          ]
        }
      ]
    },
    {
      "cell_type": "code",
      "source": [
        "# 8. Features & Target\n",
        "X = flights.drop(['ARRIVAL_DELAY','Delayed','FL_DATE','YEAR','MONTH','DAY','DAY_OF_WEEK','SCHEDULED_DEPARTURE'], axis=1, errors='ignore')\n",
        "y = flights['Delayed']\n",
        "\n",
        "# Keep only numeric columns\n",
        "X = X.select_dtypes(include=np.number)\n",
        "\n",
        "# Train-test split\n",
        "X_train, X_test, y_train, y_test = train_test_split(\n",
        "    X, y, test_size=0.2, random_state=42, stratify=y\n",
        ")\n"
      ],
      "metadata": {
        "id": "o_iNfH9SYDCA"
      },
      "execution_count": null,
      "outputs": []
    },
    {
      "cell_type": "code",
      "source": [
        "# 9. Handle missing values\n",
        "imputer = SimpleImputer(strategy='median')\n",
        "X_train = imputer.fit_transform(X_train)\n",
        "X_test = imputer.transform(X_test)\n",
        "\n",
        "# Replace any remaining NaNs with 0\n",
        "X_train = np.nan_to_num(X_train, nan=0)\n",
        "X_test = np.nan_to_num(X_test, nan=0)\n",
        "\n",
        "# Scale features\n",
        "scaler = StandardScaler()\n",
        "X_train = scaler.fit_transform(X_train)\n",
        "X_test = scaler.transform(X_test)\n"
      ],
      "metadata": {
        "id": "0XX9yyUbb4IK"
      },
      "execution_count": null,
      "outputs": []
    },
    {
      "cell_type": "markdown",
      "source": [
        "# Model Training and Evaluation"
      ],
      "metadata": {
        "id": "6HzjkeKpjRHP"
      }
    },
    {
      "cell_type": "code",
      "source": [
        "# Logistic Regression\n",
        "lr_model = LogisticRegression(max_iter=500)\n",
        "lr_model.fit(X_train, y_train)\n",
        "\n",
        "y_pred = lr_model.predict(X_test)\n",
        "\n",
        "print(\"Accuracy:\", round(accuracy_score(y_test, y_pred), 4))\n",
        "print(\"Recall:\", round(recall_score(y_test, y_pred), 4))\n",
        "print(\"F1 Score:\", round(f1_score(y_test, y_pred), 4))\n",
        "print(\"ROC-AUC:\", round(roc_auc_score(y_test, lr_model.predict_proba(X_test)[:,1]), 4))\n",
        "\n",
        "# Confusion Matrix\n",
        "cm = confusion_matrix(y_test, y_pred)\n",
        "sns.heatmap(cm, annot=True, fmt='d', cmap='Blues')\n",
        "plt.title(\"Confusion Matrix - Logistic Regression\")\n",
        "plt.show()\n"
      ],
      "metadata": {
        "colab": {
          "base_uri": "https://localhost:8080/",
          "height": 521
        },
        "id": "m_ioxHI-a7NC",
        "outputId": "7593ffb4-2aed-4069-827d-c20ebbafa7e9"
      },
      "execution_count": null,
      "outputs": [
        {
          "output_type": "stream",
          "name": "stdout",
          "text": [
            "Accuracy: 0.9999\n",
            "Recall: 0.9998\n",
            "F1 Score: 0.9998\n",
            "ROC-AUC: 1.0\n"
          ]
        },
        {
          "output_type": "display_data",
          "data": {
            "text/plain": [
              "<Figure size 640x480 with 2 Axes>"
            ],
            "image/png": "[encoded data removed]"
          },
          "metadata": {}
        }
      ]
    },
    {
      "cell_type": "code",
      "source": [
        "# Random Forest\n",
        "rf_model = RandomForestClassifier(n_estimators=10, max_depth=8, random_state=42, n_jobs=-1)\n",
        "rf_model.fit(X_train, y_train)\n",
        "\n",
        "y_pred = rf_model.predict(X_test)\n",
        "\n",
        "print(\"Accuracy:\", round(accuracy_score(y_test, y_pred), 4))\n",
        "print(\"Recall:\", round(recall_score(y_test, y_pred), 4))\n",
        "print(\"F1 Score:\", round(f1_score(y_test, y_pred), 4))\n",
        "print(\"ROC-AUC:\", round(roc_auc_score(y_test, rf_model.predict_proba(X_test)[:,1]), 4))\n",
        "\n",
        "cm = confusion_matrix(y_test, y_pred)\n",
        "sns.heatmap(cm, annot=True, fmt='d', cmap='Blues')\n",
        "plt.title(\"Confusion Matrix - Random Forest\")\n",
        "plt.show()\n"
      ],
      "metadata": {
        "colab": {
          "base_uri": "https://localhost:8080/",
          "height": 521
        },
        "id": "CPW-Sb5vbvjH",
        "outputId": "c8c0c61c-b0b6-454d-bc83-ab2fcb3ba5d5"
      },
      "execution_count": null,
      "outputs": [
        {
          "output_type": "stream",
          "name": "stdout",
          "text": [
            "Accuracy: 0.994\n",
            "Recall: 0.9997\n",
            "F1 Score: 0.9834\n",
            "ROC-AUC: 0.9998\n"
          ]
        },
        {
          "output_type": "display_data",
          "data": {
            "text/plain": [
              "<Figure size 640x480 with 2 Axes>"
            ],
            "image/png": "[encoded data removed]"
          },
          "metadata": {}
        }
      ]
    },
    {
      "cell_type": "code",
      "source": [
        "# XGBoost\n",
        "xgb_model = XGBClassifier(use_label_encoder=False, eval_metric='logloss', n_estimators=10)\n",
        "xgb_model.fit(X_train, y_train)\n",
        "\n",
        "y_pred = xgb_model.predict(X_test)\n",
        "\n",
        "print(\"Accuracy:\", round(accuracy_score(y_test, y_pred), 4))\n",
        "print(\"Recall:\", round(recall_score(y_test, y_pred), 4))\n",
        "print(\"F1 Score:\", round(f1_score(y_test, y_pred), 4))\n",
        "print(\"ROC-AUC:\", round(roc_auc_score(y_test, xgb_model.predict_proba(X_test)[:,1]), 4))\n",
        "\n",
        "cm = confusion_matrix(y_test, y_pred)\n",
        "sns.heatmap(cm, annot=True, fmt='d', cmap='Blues')\n",
        "plt.title(\"Confusion Matrix - XGBoost\")\n",
        "plt.show()\n"
      ],
      "metadata": {
        "colab": {
          "base_uri": "https://localhost:8080/",
          "height": 591
        },
        "id": "Xf8QFq9JkAgh",
        "outputId": "32dd7c06-012c-494e-c5ab-7af164ce5eea"
      },
      "execution_count": null,
      "outputs": [
        {
          "output_type": "stream",
          "name": "stderr",
          "text": [
            "/usr/local/lib/python3.12/dist-packages/xgboost/training.py:183: UserWarning: [02:25:02] WARNING: /workspace/src/learner.cc:738: \n",
            "Parameters: { \"use_label_encoder\" } are not used.\n",
            "\n",
            "  bst.update(dtrain, iteration=i, fobj=obj)\n"
          ]
        },
        {
          "output_type": "stream",
          "name": "stdout",
          "text": [
            "Accuracy: 0.9974\n",
            "Recall: 0.9987\n",
            "F1 Score: 0.9927\n",
            "ROC-AUC: 0.9999\n"
          ]
        },
        {
          "output_type": "display_data",
          "data": {
            "text/plain": [
              "<Figure size 640x480 with 2 Axes>"
            ],
            "image/png": "[encoded data removed]"
          },
          "metadata": {}
        }
      ]
    },
    {
      "cell_type": "code",
      "source": [],
      "metadata": {
        "id": "RmCVdxc1l81e"
      },
      "execution_count": null,
      "outputs": []
    }
  ]
}